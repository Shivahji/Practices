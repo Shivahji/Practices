{
 "cells": [
  {
   "cell_type": "code",
   "execution_count": 1,
   "id": "fcdafa82-8fcc-4abf-bc67-3f5a75b96b2e",
   "metadata": {},
   "outputs": [
    {
     "name": "stdout",
     "output_type": "stream",
     "text": [
      "First Name: Shiva\n",
      "Last Name: Hajalizadeh\n",
      "Student ID: 4032013056\n",
      "Birth Year: 2004\n",
      "Age: 20\n",
      "Favorite Movie: war\n",
      "Favorite Band: novan\n",
      "Field of Study: Electerical Engineering\n",
      "Level of Education: bachelor\n",
      "Graduation Year: 2022\n",
      "GPA: 21.5\n",
      "Skills: ['power lifting', 'robotic']\n",
      "Hobbies: ['playing game', 'badminton']\n",
      "Current Role: student\n",
      "Strengths: ['Teamwork', 'exercise']\n",
      "Weaknesses: ['Public speaking']\n",
      "Favorite Book: chemistry\n",
      "Programming Languages: ['Python', 'C+']\n",
      "Languages Known: ['English', 'Turkish']\n",
      "Previous Experience: ['Bodybuilding']\n",
      "Job Experience: Work in the company\n",
      "Support System: Supportive and knowledgeable\n"
     ]
    }
   ],
   "source": [
    "# اطلاعات فایل \"Info.txt\"\n",
    "file_content = {\n",
    "    \"First Name\": \"Shiva\",\n",
    "    \"Last Name\": \"Hajalizadeh\",\n",
    "    \"Student ID\": \"4032013056\",\n",
    "    \"Birth Year\": 2004,\n",
    "    \"Age\": 20,\n",
    "    \"Favorite Movie\": \"war\",\n",
    "    \"Favorite Band\": \"novan\",\n",
    "    \"Field of Study\": \"Electerical Engineering\",\n",
    "    \"Level of Education\": \"bachelor\",\n",
    "    \"Graduation Year\": 2022,\n",
    "    \"GPA\": 21.5,\n",
    "    \"Skills\": [\"power lifting\", \"robotic\"],\n",
    "    \"Hobbies\": [\"playing game\", \"badminton\"],\n",
    "    \"Current Role\": \"student\",\n",
    "    \"Strengths\": [\"Teamwork\", \"exercise\"],\n",
    "    \"Weaknesses\": [\"Public speaking\"],\n",
    "    \"Favorite Book\": \"chemistry\",\n",
    "    \"Programming Languages\": [\"Python\", \"C+\"],\n",
    "    \"Languages Known\": [\"English\", \"Turkish\"],\n",
    "    \"Previous Experience\": [\"Bodybuilding\"],\n",
    "    \"Job Experience\": \"Work in the company\",\n",
    "    \"Support System\": \"Supportive and knowledgeable\"\n",
    "}\n",
    "\n",
    "# نمایش دیکشنری اطلاعات\n",
    "for key, value in file_content.items():\n",
    "    print(f\"{key}: {value}\")"
   ]
  },
  {
   "cell_type": "code",
   "execution_count": null,
   "id": "ce14a916-791b-4e07-9b5f-712a5be48013",
   "metadata": {},
   "outputs": [],
   "source": []
  }
 ],
 "metadata": {
  "kernelspec": {
   "display_name": "anaconda-ai-2024.04-py310",
   "language": "python",
   "name": "conda-env-anaconda-ai-2024.04-py310-py"
  },
  "language_info": {
   "codemirror_mode": {
    "name": "ipython",
    "version": 3
   },
   "file_extension": ".py",
   "mimetype": "text/x-python",
   "name": "python",
   "nbconvert_exporter": "python",
   "pygments_lexer": "ipython3",
   "version": "3.10.13"
  }
 },
 "nbformat": 4,
 "nbformat_minor": 5
}
