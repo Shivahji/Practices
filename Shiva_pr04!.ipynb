{
 "cells": [
  {
   "cell_type": "code",
   "execution_count": null,
   "id": "4bdad1b5-47ac-4854-9f25-d21b605e2934",
   "metadata": {},
   "outputs": [],
   "source": [
    "import numpy as np\n",
    "import matplotlib.pyplot as plt\n",
    "\n",
    "def draw_combined_plot():\n",
    "    # مقداردهی متغیرها\n",
    "    x = np.linspace(-1, 1, 100)\n",
    "    y1 = np.sin(x)\n",
    "    y2 = 2 * np.sin(x) * (np.cos(4)**2) - 2 * np.sin(-x) * (np.sin(2)**2)\n",
    "\n",
    "    # ایجاد نمودار ترکیبی\n",
    "    plt.figure(figsize=(6, 4))\n",
    "    plt.plot(x, y1, color='blue', linewidth=2, label=r'$y = \\sin(x)$')\n",
    "    plt.plot(x, y2, color='red', linewidth=2, label=r'$y = 2 \\sin(x) \\cos^2(4) - 2 \\sin(-x) \\sin^2(2)$')\n",
    "\n",
    "    # تنظیمات نمودار\n",
    "    plt.xlabel(\"X\")\n",
    "    plt.ylabel(\"Y\")\n",
    "    plt.title(\"نمودار ترکیبی دو تابع\")\n",
    "    plt.legend()\n",
    "    plt.grid()\n",
    "\n",
    "    # ذخیره تصویر در دو وضوح مختلف\n",
    "    plt.savefig(\"combined_plot.png\", dpi=300)\n",
    "    plt.savefig(\"combined_plot_highres.png\", dpi=600)\n",
    "\n",
    "    # نمایش نمودار\n",
    "    plt.show()\n",
    "\n",
    "# فراخوانی تابع\n",
    "draw_combined_plot()\n",
    "\n",
    "#Shiva_Hajalizadeh"
   ]
  }
 ],
 "metadata": {
  "kernelspec": {
   "display_name": "anaconda-panel-2023.05-py310",
   "language": "python",
   "name": "conda-env-anaconda-panel-2023.05-py310-py"
  },
  "language_info": {
   "codemirror_mode": {
    "name": "ipython",
    "version": 3
   },
   "file_extension": ".py",
   "mimetype": "text/x-python",
   "name": "python",
   "nbconvert_exporter": "python",
   "pygments_lexer": "ipython3",
   "version": "3.11.5"
  }
 },
 "nbformat": 4,
 "nbformat_minor": 5
}
