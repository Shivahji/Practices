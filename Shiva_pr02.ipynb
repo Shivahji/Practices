{
 "cells": [
  {
   "cell_type": "code",
   "execution_count": 6,
   "id": "cfc5d601-53d9-4ccf-ba76-d5556f157535",
   "metadata": {},
   "outputs": [
    {
     "name": "stdout",
     "output_type": "stream",
     "text": [
      "{'First Name': 'Shiva', 'Last Name': 'Hajalizadeh', 'Student ID': '4032013056', 'Birth Year': 2004, 'Age': 20, 'Favorite Movie': 'war', 'Favorite Band': 'novan', 'Field of Study': 'Electerical Engineering', 'Level of Education': 'bachelor', 'Graduation Year': 2022, 'GPA': 21.5, 'Skills': ['power lifting', 'robotic'], 'Hobbies': ['playing game', 'badminton'], 'Current Role': 'student', 'Strengths': ['Teamwork', 'exercise'], 'Weaknesses': ['Public speaking'], 'Favorite Book': 'chemistry', 'Programming Languages': ['Python', 'C+'], 'Languages Known': ['English', 'Turkish'], 'Previous Experience': ['Bodybuilding'], 'Job Experience': 'Work in the company', 'Support System': 'Supportive and knowledgeable'}\n"
     ]
    }
   ],
   "source": [
    "# دیکشنری اولیه (فرضی)\n",
    "info_dict = {\n",
    "    \"First Name\": \"\",\n",
    "    \"Last Name\": \"\",\n",
    "    \"Student ID\": \"\",\n",
    "    \"Birth Year\": \"\",\n",
    "    \"Age\": \"\",\n",
    "    \"Favorite Movie\": \"\",\n",
    "    \"Favorite Band\": \"\",\n",
    "    \"Field of Study\": \"\",\n",
    "    \"Level of Education\": \"\",\n",
    "    \"Graduation Year\": \"\",\n",
    "    \"GPA\": \"\",\n",
    "    \"Skills\": [],\n",
    "    \"Hobbies\": [],\n",
    "    \"Current Role\": \"\",\n",
    "    \"Strengths\": [],\n",
    "    \"Weaknesses\": [],\n",
    "    \"Favorite Book\": \"\",\n",
    "    \"Programming Languages\": [],\n",
    "    \"Languages Known\": [],\n",
    "    \"Previous Experience\": [],\n",
    "    \"Job Experience\": \"\",\n",
    "    \"Support System\": \"\"\n",
    "}\n",
    "\n",
    "# اطلاعات شخصی از فایل متنی (که اینجا دستی وارد شده)\n",
    "file_content = {\n",
    "    \"First Name\": \"Shiva\",\n",
    "    \"Last Name\": \"Hajalizadeh\",\n",
    "    \"Student ID\": \"4032013056\",\n",
    "    \"Birth Year\": 2004,\n",
    "    \"Age\": 20,\n",
    "    \"Favorite Movie\": \"war\",\n",
    "    \"Favorite Band\": \"novan\",\n",
    "    \"Field of Study\": \"Electerical Engineering\",\n",
    "    \"Level of Education\": \"bachelor\",\n",
    "    \"Graduation Year\": 2022,\n",
    "    \"GPA\": 21.5,\n",
    "    \"Skills\": [\"power lifting\", \"robotic\"],\n",
    "    \"Hobbies\": [\"playing game\", \"badminton\"],\n",
    "    \"Current Role\": \"student\",\n",
    "    \"Strengths\": [\"Teamwork\", \"exercise\"],\n",
    "    \"Weaknesses\": [\"Public speaking\"],\n",
    "    \"Favorite Book\": \"chemistry\",\n",
    "    \"Programming Languages\": [\"Python\", \"C+\"],\n",
    "    \"Languages Known\": [\"English\", \"Turkish\"],\n",
    "    \"Previous Experience\": [\"Bodybuilding\"],\n",
    "    \"Job Experience\": \"Work in the company\",\n",
    "    \"Support System\": \"Supportive and knowledgeable\"\n",
    "}\n",
    "\n",
    "# ساخت دیکشنری جدید با جایگذاری اطلاعات\n",
    "updated_info = {key: file_content.get(key, info_dict[key]) for key in info_dict}\n",
    "\n",
    "# نمایش دیکشنری جدید\n",
    "print(updated_info)"
   ]
  },
  {
   "cell_type": "code",
   "execution_count": null,
   "id": "98adab1d-41cb-4f71-816d-be9edb547601",
   "metadata": {},
   "outputs": [],
   "source": []
  },
  {
   "cell_type": "code",
   "execution_count": null,
   "id": "d7fa1abe-ee4e-4d48-b023-69dc74b1c743",
   "metadata": {},
   "outputs": [],
   "source": []
  }
 ],
 "metadata": {
  "kernelspec": {
   "display_name": "anaconda-ai-2024.04-py310",
   "language": "python",
   "name": "conda-env-anaconda-ai-2024.04-py310-py"
  },
  "language_info": {
   "codemirror_mode": {
    "name": "ipython",
    "version": 3
   },
   "file_extension": ".py",
   "mimetype": "text/x-python",
   "name": "python",
   "nbconvert_exporter": "python",
   "pygments_lexer": "ipython3",
   "version": "3.10.13"
  }
 },
 "nbformat": 4,
 "nbformat_minor": 5
}
